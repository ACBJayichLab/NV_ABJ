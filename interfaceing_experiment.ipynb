{
 "cells": [
  {
   "cell_type": "markdown",
   "metadata": {},
   "source": [
    "# Experimental Configuration"
   ]
  },
  {
   "cell_type": "markdown",
   "metadata": {},
   "source": [
    "## Confocal Controls "
   ]
  },
  {
   "cell_type": "code",
   "execution_count": 9,
   "metadata": {},
   "outputs": [],
   "source": [
    "from NV_ABJ import NiDaqSingleAxisScanner\n",
    "\n",
    "confocal_x = NiDaqSingleAxisScanner(conversion_volts_per_meter_setting=10/(50e-6),\n",
    "                                              device_name_output=\"PXI1Slot5\",\n",
    "                                              channel_name_output=\"ao0\",\n",
    "                                              position_limits_m=(-50e-6,50e-6))\n",
    "\n",
    "confocal_y = NiDaqSingleAxisScanner(conversion_volts_per_meter_setting=10/(50e-6),\n",
    "                                              device_name_output=\"PXI1Slot5\",\n",
    "                                              channel_name_output=\"ao1\",\n",
    "                                              position_limits_m=(-50e-6,50e-6))\n",
    "\n",
    "\n",
    "confocal_z = NiDaqSingleAxisScanner(conversion_volts_per_meter_setting=10/(50e-6),\n",
    "                                              device_name_output=\"PXI1Slot4\",\n",
    "                                              channel_name_output=\"ao3\",\n",
    "                                              position_limits_m=(-50e-6,50e-6))\n",
    "\n",
    "# Setting the default locations to 0\n",
    "\n",
    "with confocal_x, confocal_y, confocal_z:\n",
    "    confocal_x.set_position_m(0)\n",
    "    confocal_y.set_position_m(0)\n",
    "    confocal_z.set_position_m(0)"
   ]
  },
  {
   "cell_type": "markdown",
   "metadata": {},
   "source": [
    "## Photon Counter"
   ]
  },
  {
   "cell_type": "code",
   "execution_count": 11,
   "metadata": {},
   "outputs": [],
   "source": [
    "from NV_ABJ import NiPhotonCounterDaqControlled\n",
    "photon_counter = NiPhotonCounterDaqControlled(device_name=\"PXI1Slot3\",\n",
    "                                                counter_pfi=\"pfi0\",\n",
    "                                                trigger_pfi=\"pfi2\")"
   ]
  },
  {
   "cell_type": "markdown",
   "metadata": {},
   "source": [
    "## Sequence Generation Controls "
   ]
  },
  {
   "cell_type": "code",
   "execution_count": 5,
   "metadata": {},
   "outputs": [],
   "source": [
    "from NV_ABJ.hardware_interfaces.sequence_generation.spbicl_pulse_blaster.SpbiclPulseBlaster import SpbiclPulseBlaster\n",
    "from NV_ABJ import SequenceDevice\n",
    "\n",
    "sequence_generator = SpbiclPulseBlaster()\n",
    "\n",
    "microwave_switch = SequenceDevice(address=0,\n",
    "                                  device_label=\"Microwaves\")\n",
    "\n",
    "apd_trigger = SequenceDevice(address=1,\n",
    "                             device_label=\"APD\")\n",
    "\n",
    "aom_trigger = SequenceDevice(address=2,\n",
    "                             device_label=\"AOM\")"
   ]
  },
  {
   "cell_type": "markdown",
   "metadata": {},
   "source": [
    "## Signal Generation"
   ]
  },
  {
   "cell_type": "code",
   "execution_count": 6,
   "metadata": {},
   "outputs": [],
   "source": [
    "from NV_ABJ import SG380\n",
    "\n",
    "srs_address = 'GPIB0::27::INSTR'\n",
    "signal_generator_1 = SG380(gpib_address=srs_address)"
   ]
  },
  {
   "cell_type": "markdown",
   "metadata": {},
   "source": [
    "# Confocal Scanning "
   ]
  },
  {
   "cell_type": "code",
   "execution_count": 12,
   "metadata": {},
   "outputs": [],
   "source": [
    "# basic Imports\n",
    "import numpy as np\n",
    "import matplotlib.pyplot as plt\n",
    "import time\n",
    "from datetime import datetime\n",
    "\n",
    "class ConfocalControls:\n",
    "    def __init__(self,scanner_x,scanner_y,scanner_z,photon_counter):\n",
    "        self.scanner_x = scanner_x\n",
    "        self.scanner_y = scanner_y\n",
    "        self.scanner_z = scanner_z\n",
    "        self.photon_counter = photon_counter\n",
    "\n",
    "\n",
    "    def xy_scan(self,dwell_time_s,x_positions,y_positions,z_position):\n",
    "        print(f\"Time Estimate (min): {2*dwell_time_s*len(x_positions)*len(y_positions)/60}, Started at: {datetime.fromtimestamp(time.time())}\")\n",
    "\n",
    "\n",
    "        x_length = len(y_positions)\n",
    "        xy_counts = np.zeros((x_length,len(y_positions)))\n",
    "        line_counts = np.zeros(x_length)\n",
    "        reversed_x = x_positions[::-1]\n",
    "    \n",
    "        # Getting original z to return to \n",
    "        z_original = self.scanner_z._position_m\n",
    "\n",
    "        with self.scanner_x as x_con, self.scanner_y as y_con, self.scanner_z as z_con, self.photon_counter as pc:\n",
    "            # Sets the initial position to be location at the place that the user requested\n",
    "            z_con.set_position_m(z_position)\n",
    "\n",
    "            # Iterates through y setting the position once per line \n",
    "            for ind_y,y_loc in enumerate(y_positions):\n",
    "                y_con.set_position_m(y_loc)\n",
    "\n",
    "                # Flips the even and odd rows so we don't have jumps going back and forth on the x axis \n",
    "                if ind_y%2 == 0:\n",
    "                    for ind_x,x_loc in enumerate(x_positions):\n",
    "                        x_con.set_position_m(x_loc)\n",
    "                        counts = pc.get_counts_per_second(dwell_time_s=dwell_time_s)\n",
    "                        line_counts[ind_x] = counts\n",
    "\n",
    "                else:\n",
    "                    for ind_x,x_loc in enumerate(reversed_x):\n",
    "                        x_con.set_position_m(x_loc)\n",
    "                        counts = pc.get_counts_per_second(dwell_time_s=dwell_time_s)\n",
    "                        line_counts[(x_length-1)-ind_x] = counts\n",
    "\n",
    "                # Adds a full line at a time \n",
    "                xy_counts[:,ind_y] = line_counts\n",
    "            \n",
    "            # Resetting back to original z position\n",
    "            z_con.set_position_m(z_original)\n",
    "        \n",
    "        return xy_counts\n",
    "    \n",
    "    def z_scan(self,dwell_time_s,x_position,y_position, z_positions,photon_counter):\n",
    "        photon_counts = np.zeros(len(z_positions))\n",
    "\n",
    "        # Getting original z to return to \n",
    "        z_original = self.scanner_z._position_m\n",
    "\n",
    "        print(f\"Estimated Time (min){2*dwell_time_s*len(z_positions)/60}\")\n",
    "\n",
    "        with confocal_x, confocal_y, confocal_z, photon_counter as pc:\n",
    "            confocal_x.set_position_m(x_position)\n",
    "            confocal_y.set_position_m(y_position)\n",
    "\n",
    "            for ind_z,z_loc in enumerate(z_positions):\n",
    "                confocal_z.set_position_m(z_loc)\n",
    "                photon_counts[ind_z] = pc.get_counts_raw(dwell_time_s)\n",
    "\n",
    "            # Resetting back to original z position\n",
    "            confocal_z.set_position_m(z_original)\n",
    "        \n",
    "        return photon_counts\n",
    "    \n",
    "\n",
    "confocal = ConfocalControls(confocal_x,confocal_y,confocal_z,photon_counter)"
   ]
  },
  {
   "cell_type": "markdown",
   "metadata": {},
   "source": [
    "# Turning On Pulse Blaster Bits "
   ]
  },
  {
   "cell_type": "code",
   "execution_count": 18,
   "metadata": {},
   "outputs": [
    {
     "data": {
      "text/plain": [
       "0"
      ]
     },
     "execution_count": 18,
     "metadata": {},
     "output_type": "execute_result"
    }
   ],
   "source": [
    "# Just turning on these devices \n",
    "sequence_generator.stop()\n",
    "\n",
    "microwave_switch.device_status = False\n",
    "apd_trigger.device_status = False\n",
    "aom_trigger.device_status = True\n",
    "\n",
    "sequence_generator.update_devices([microwave_switch,apd_trigger,aom_trigger])\n"
   ]
  },
  {
   "cell_type": "markdown",
   "metadata": {},
   "source": [
    "# Making a 2D scan"
   ]
  },
  {
   "cell_type": "markdown",
   "metadata": {},
   "source": [
    "## Getting the Image Data "
   ]
  },
  {
   "cell_type": "code",
   "execution_count": 13,
   "metadata": {},
   "outputs": [
    {
     "name": "stdout",
     "output_type": "stream",
     "text": [
      "Time Estimate (min): 2.5, Started at: 2025-03-31 16:38:01.010065\n"
     ]
    }
   ],
   "source": [
    "dwell_time_s = 30e-3\n",
    "\n",
    "z_position = -10e-6\n",
    "x_positions = np.linspace(-38e-6,-28e-6,50)\n",
    "y_positions = np.linspace(-32e-6,-20e-6,50)\n",
    "\n",
    "xy_counts = confocal.xy_scan(dwell_time_s,x_positions,y_positions,z_position)"
   ]
  },
  {
   "cell_type": "markdown",
   "metadata": {},
   "source": [
    "## Graphing Image Scan"
   ]
  },
  {
   "cell_type": "code",
   "execution_count": 14,
   "metadata": {},
   "outputs": [
    {
     "data": {
      "image/png": "[encoded data removed]",
      "text/plain": [
       "<Figure size 640x480 with 2 Axes>"
      ]
     },
     "metadata": {},
     "output_type": "display_data"
    }
   ],
   "source": [
    "img = plt.imshow(xy_counts/1000, cmap='hot', extent=(min(y_positions)*1e6,max(y_positions)*1e6,max(x_positions)*1e6,min(x_positions)*1e6))  # Use a colormap for visualization\n",
    "cbar = plt.colorbar(img)\n",
    "#plt.clim(2.25,13.25)\n",
    "cbar.set_label(\"kCounts/s\")\n",
    "\n",
    "\n",
    "plt.title(\"Confocal Image Scan\")\n",
    "plt.xlabel(\"Y (um)\")\n",
    "plt.ylabel(\"X (um)\")\n",
    "plt.show()\n"
   ]
  },
  {
   "cell_type": "markdown",
   "metadata": {},
   "source": [
    "# Making a Z Scan"
   ]
  },
  {
   "cell_type": "markdown",
   "metadata": {},
   "source": [
    "## Getting the Z Scan Data"
   ]
  },
  {
   "cell_type": "code",
   "execution_count": 20,
   "metadata": {},
   "outputs": [
    {
     "name": "stdout",
     "output_type": "stream",
     "text": [
      "Estimated Time (min)0.3333333333333333\n"
     ]
    }
   ],
   "source": [
    "dwell_time_s = 50e-3\n",
    "\n",
    "x_position = -33e-6\n",
    "y_position = -27.5e-6\n",
    "number_of_positions = 200\n",
    "z_positions = np.linspace(-50e-6,50e-6,number_of_positions)\n",
    "\n",
    "z_scan = confocal.z_scan(dwell_time_s,x_position,y_position,z_positions,photon_counter)"
   ]
  },
  {
   "cell_type": "markdown",
   "metadata": {},
   "source": [
    "## Graphing the Z Scan Data "
   ]
  },
  {
   "cell_type": "code",
   "execution_count": 21,
   "metadata": {},
   "outputs": [
    {
     "data": {
      "image/png": "[encoded data removed]",
      "text/plain": [
       "<Figure size 640x480 with 1 Axes>"
      ]
     },
     "metadata": {},
     "output_type": "display_data"
    }
   ],
   "source": [
    "plt.plot(z_positions*1e6,z_scan/1000)\n",
    "plt.title(\"Vertical Scan\")\n",
    "plt.xlabel(\"Z Position (um)\")\n",
    "plt.ylabel(\"kCounts/s\")\n",
    "plt.show()"
   ]
  }
 ],
 "metadata": {
  "kernelspec": {
   "display_name": "base",
   "language": "python",
   "name": "python3"
  },
  "language_info": {
   "codemirror_mode": {
    "name": "ipython",
    "version": 3
   },
   "file_extension": ".py",
   "mimetype": "text/x-python",
   "name": "python",
   "nbconvert_exporter": "python",
   "pygments_lexer": "ipython3",
   "version": "3.12.7"
  }
 },
 "nbformat": 4,
 "nbformat_minor": 2
}
